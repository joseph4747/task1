{
 "cells": [
  {
   "cell_type": "code",
   "execution_count": 1,
   "id": "dd28374d-8771-42ca-8288-ec03bb5587c5",
   "metadata": {},
   "outputs": [
    {
     "name": "stdout",
     "output_type": "stream",
     "text": [
      "[1, 2, 3, 4, 6, 7]\n"
     ]
    }
   ],
   "source": [
    "my_list=[1,2,3,4,5,6]\n",
    "my_list.append(7)\n",
    "my_list.remove(5)\n",
    "my_list[0]\n",
    "print(my_list)\n"
   ]
  },
  {
   "cell_type": "code",
   "execution_count": 2,
   "id": "b3955f4d-d5af-4367-a53c-43a3914d61d6",
   "metadata": {},
   "outputs": [
    {
     "name": "stdout",
     "output_type": "stream",
     "text": [
      "updated dictonary: {'name': 'rajeev', 'city': 'Banglore', 'gender': 'male'}\n"
     ]
    }
   ],
   "source": [
    "my_dict={'name':'rajeev','age':'19', 'city': 'goa'}\n",
    "my_dict['gender']='male'\n",
    "del my_dict['age']\n",
    "my_dict['city']='Banglore'\n",
    "print('updated dictonary:',my_dict)\n"
   ]
  },
  {
   "cell_type": "code",
   "execution_count": 3,
   "id": "d62d7bf8-889e-4dd0-b193-1ea3cee32225",
   "metadata": {},
   "outputs": [
    {
     "name": "stdout",
     "output_type": "stream",
     "text": [
      "updated set: {1, 4, 5, 6, 7, 10}\n"
     ]
    }
   ],
   "source": [
    "my_set={1,2,3,4,5,6}\n",
    "my_set.add(7)\n",
    "my_set.remove(3)\n",
    "my_set.discard(2)\n",
    "my_set.add(10)\n",
    "print('updated set:',my_set)"
   ]
  },
  {
   "cell_type": "code",
   "execution_count": 6,
   "id": "17e556e4-7f93-4ea4-9202-3f0fd860a4c9",
   "metadata": {},
   "outputs": [
    {
     "name": "stdout",
     "output_type": "stream",
     "text": [
      "(1, 2, 5)\n"
     ]
    }
   ],
   "source": [
    "original_tuple=(1,2,3)\n",
    "new_element=4\n",
    "updated_tuple= original_tuple + (new_element,)\n",
    "updated_tuple = original_tuple[:1] + original_tuple[2:]\n",
    "modified_element=5\n",
    "updated_tuple = original_tuple[:2]+ (modified_element,) + original_tuple[3:]\n",
    "print(updated_tuple)"
   ]
  },
  {
   "cell_type": "code",
   "execution_count": null,
   "id": "c71780da-ebcb-419f-a490-e8ddefe104e0",
   "metadata": {},
   "outputs": [],
   "source": []
  }
 ],
 "metadata": {
  "kernelspec": {
   "display_name": "Python 3 (ipykernel)",
   "language": "python",
   "name": "python3"
  },
  "language_info": {
   "codemirror_mode": {
    "name": "ipython",
    "version": 3
   },
   "file_extension": ".py",
   "mimetype": "text/x-python",
   "name": "python",
   "nbconvert_exporter": "python",
   "pygments_lexer": "ipython3",
   "version": "3.12.3"
  }
 },
 "nbformat": 4,
 "nbformat_minor": 5
}
